{
 "cells": [
  {
   "cell_type": "markdown",
   "metadata": {},
   "source": [
    "### Train Recommendation System\n",
    "#### Harsh Tandon"
   ]
  },
  {
   "cell_type": "code",
   "execution_count": 1,
   "metadata": {},
   "outputs": [],
   "source": [
    "# print all the outputs in a cell\n",
    "from IPython.core.interactiveshell import InteractiveShell\n",
    "InteractiveShell.ast_node_interactivity = \"all\""
   ]
  },
  {
   "cell_type": "code",
   "execution_count": 2,
   "metadata": {},
   "outputs": [],
   "source": [
    "import numpy as np\n",
    "import pandas as pd\n",
    "import pickle\n",
    "import matrix_factorization_utilities"
   ]
  },
  {
   "cell_type": "code",
   "execution_count": 3,
   "metadata": {},
   "outputs": [],
   "source": [
    "# Load user ratings\n",
    "raw_dataset_df = pd.read_csv('Data/movie_ratings_data_set.csv')"
   ]
  },
  {
   "cell_type": "code",
   "execution_count": 4,
   "metadata": {},
   "outputs": [
    {
     "data": {
      "text/html": [
       "<div>\n",
       "<style scoped>\n",
       "    .dataframe tbody tr th:only-of-type {\n",
       "        vertical-align: middle;\n",
       "    }\n",
       "\n",
       "    .dataframe tbody tr th {\n",
       "        vertical-align: top;\n",
       "    }\n",
       "\n",
       "    .dataframe thead th {\n",
       "        text-align: right;\n",
       "    }\n",
       "</style>\n",
       "<table border=\"1\" class=\"dataframe\">\n",
       "  <thead>\n",
       "    <tr style=\"text-align: right;\">\n",
       "      <th></th>\n",
       "      <th>user_id</th>\n",
       "      <th>movie_id</th>\n",
       "      <th>value</th>\n",
       "    </tr>\n",
       "  </thead>\n",
       "  <tbody>\n",
       "    <tr>\n",
       "      <th>0</th>\n",
       "      <td>1</td>\n",
       "      <td>28</td>\n",
       "      <td>4</td>\n",
       "    </tr>\n",
       "    <tr>\n",
       "      <th>1</th>\n",
       "      <td>1</td>\n",
       "      <td>26</td>\n",
       "      <td>4</td>\n",
       "    </tr>\n",
       "    <tr>\n",
       "      <th>2</th>\n",
       "      <td>1</td>\n",
       "      <td>9</td>\n",
       "      <td>4</td>\n",
       "    </tr>\n",
       "    <tr>\n",
       "      <th>3</th>\n",
       "      <td>1</td>\n",
       "      <td>1</td>\n",
       "      <td>4</td>\n",
       "    </tr>\n",
       "    <tr>\n",
       "      <th>4</th>\n",
       "      <td>1</td>\n",
       "      <td>14</td>\n",
       "      <td>4</td>\n",
       "    </tr>\n",
       "  </tbody>\n",
       "</table>\n",
       "</div>"
      ],
      "text/plain": [
       "   user_id  movie_id  value\n",
       "0        1        28      4\n",
       "1        1        26      4\n",
       "2        1         9      4\n",
       "3        1         1      4\n",
       "4        1        14      4"
      ]
     },
     "execution_count": 4,
     "metadata": {},
     "output_type": "execute_result"
    }
   ],
   "source": [
    "raw_dataset_df.head()"
   ]
  },
  {
   "cell_type": "code",
   "execution_count": 5,
   "metadata": {},
   "outputs": [],
   "source": [
    "# Convert the running list of user ratings into a matrix\n",
    "ratings_df = pd.pivot_table(raw_dataset_df, index='user_id', columns='movie_id', aggfunc=np.max)"
   ]
  },
  {
   "cell_type": "code",
   "execution_count": 6,
   "metadata": {},
   "outputs": [
    {
     "data": {
      "text/plain": [
       "100"
      ]
     },
     "execution_count": 6,
     "metadata": {},
     "output_type": "execute_result"
    }
   ],
   "source": [
    "len(ratings_df)"
   ]
  },
  {
   "cell_type": "code",
   "execution_count": 7,
   "metadata": {},
   "outputs": [
    {
     "name": "stderr",
     "output_type": "stream",
     "text": [
      "C:\\Users\\harsh\\AppData\\Local\\Continuum\\anaconda3\\lib\\site-packages\\ipykernel_launcher.py:2: FutureWarning: Method .as_matrix will be removed in a future version. Use .values instead.\n",
      "  \n"
     ]
    }
   ],
   "source": [
    "# Normalize the ratings (center them around their mean)\n",
    "normalized_ratings, means = matrix_factorization_utilities.normalize_ratings(ratings_df.as_matrix())"
   ]
  },
  {
   "cell_type": "code",
   "execution_count": 8,
   "metadata": {},
   "outputs": [
    {
     "data": {
      "text/plain": [
       "100"
      ]
     },
     "execution_count": 8,
     "metadata": {},
     "output_type": "execute_result"
    },
    {
     "data": {
      "text/plain": [
       "array([[-0.61111111,         nan,         nan,         nan,         nan,\n",
       "                nan,         nan,         nan, -0.7       ,         nan,\n",
       "                nan,         nan,  0.35714286, -0.52173913,         nan,\n",
       "                nan,         nan,         nan,         nan,         nan,\n",
       "                nan,         nan,         nan,         nan,         nan,\n",
       "        -0.625     ,         nan, -0.53333333,         nan,         nan,\n",
       "                nan,         nan,         nan,         nan],\n",
       "       [ 0.38888889,  0.38888889,         nan,         nan,         nan,\n",
       "                nan,         nan,         nan,         nan,         nan,\n",
       "                nan,         nan,         nan, -0.52173913, -0.3       ,\n",
       "                nan,         nan,         nan,         nan,         nan,\n",
       "         0.92682927,         nan,         nan,         nan,         nan,\n",
       "                nan,         nan,         nan,         nan,         nan,\n",
       "        -0.175     ,         nan,         nan, -0.11111111]])"
      ]
     },
     "execution_count": 8,
     "metadata": {},
     "output_type": "execute_result"
    }
   ],
   "source": [
    "len(normalized_ratings)\n",
    "normalized_ratings[:2]"
   ]
  },
  {
   "cell_type": "code",
   "execution_count": 9,
   "metadata": {},
   "outputs": [
    {
     "name": "stdout",
     "output_type": "stream",
     "text": [
      "Optimization terminated successfully.\n",
      "         Current function value: 105.620378\n",
      "         Iterations: 520\n",
      "         Function evaluations: 776\n",
      "         Gradient evaluations: 776\n"
     ]
    }
   ],
   "source": [
    "# Apply matrix factorization to find the latent features\n",
    "U, M = matrix_factorization_utilities.low_rank_matrix_factorization(normalized_ratings,\n",
    "                                                                    num_features=11,\n",
    "                                                                    regularization_amount=1.1)"
   ]
  },
  {
   "cell_type": "markdown",
   "metadata": {},
   "source": [
    "Notice how 'U' consists of 100 rows and 11 attributes. Each row represent a user, each attribute represets the latent features.<br>\n",
    "Notice how 'M' consists of 11 rows and 34 attrubuites. Each attribute/column represents a movie, each row represents the latent features."
   ]
  },
  {
   "cell_type": "code",
   "execution_count": 10,
   "metadata": {},
   "outputs": [
    {
     "data": {
      "text/plain": [
       "100"
      ]
     },
     "execution_count": 10,
     "metadata": {},
     "output_type": "execute_result"
    },
    {
     "data": {
      "text/plain": [
       "11"
      ]
     },
     "execution_count": 10,
     "metadata": {},
     "output_type": "execute_result"
    },
    {
     "data": {
      "text/plain": [
       "array([[ 9.47974028e-02,  2.92592682e-01, -8.47535647e-02,\n",
       "         7.32896178e-02, -1.19788008e-01, -1.64407388e-01,\n",
       "         5.57086704e-02, -2.45610901e-01,  3.50202578e-01,\n",
       "        -1.83343051e-01,  1.80968189e-01],\n",
       "       [-2.12938720e-04, -1.70229186e-01,  1.32294061e-01,\n",
       "        -2.60587201e-01, -9.78774000e-02,  9.81069479e-02,\n",
       "        -9.56903912e-02, -2.59507461e-01, -1.11613722e-01,\n",
       "        -1.33795697e-01, -4.87371639e-02]])"
      ]
     },
     "execution_count": 10,
     "metadata": {},
     "output_type": "execute_result"
    },
    {
     "data": {
      "text/plain": [
       "array([[-0.0575111 , -0.18717177,  0.18460815,  0.52040525,  0.46004985,\n",
       "         0.05092249,  0.05052823,  0.39741658, -0.07468683, -0.18925709,\n",
       "         0.2484915 , -0.17432957,  0.79760411,  0.06955417, -0.63066282,\n",
       "         0.15098855,  0.4067927 ,  0.04671716,  0.12849667,  0.68408722,\n",
       "         0.0137926 , -0.52922758,  0.49465019,  0.16471688, -0.4232599 ,\n",
       "         0.17572237, -0.69758343,  0.46909807,  0.75870577, -0.88857826,\n",
       "         0.90204983,  0.56099   , -0.96284066,  1.2672733 ],\n",
       "       [-0.26290894, -0.61916762,  0.12163489,  0.68407049, -0.31909874,\n",
       "        -0.01597337,  0.12935073, -0.26115232, -0.30712691, -0.23274282,\n",
       "        -0.06978455,  0.03413054, -0.10968291, -0.27593518, -0.20926264,\n",
       "        -0.33205529, -0.22406897,  0.01985349, -0.71410694, -0.44187282,\n",
       "        -1.24074612, -0.15963031, -0.80147167, -0.4072675 , -0.60576444,\n",
       "        -0.35794443, -0.7476009 , -0.10596499, -0.81788442, -0.41357406,\n",
       "         0.05054365, -0.39013233, -1.39530463, -0.81115027]])"
      ]
     },
     "execution_count": 10,
     "metadata": {},
     "output_type": "execute_result"
    }
   ],
   "source": [
    "len(U)\n",
    "len(M)\n",
    "U[:2]\n",
    "M[:2]"
   ]
  },
  {
   "cell_type": "code",
   "execution_count": 11,
   "metadata": {},
   "outputs": [],
   "source": [
    "# Find all predicted ratings by multiplying U and M\n",
    "predicted_ratings = np.matmul(U, M)"
   ]
  },
  {
   "cell_type": "code",
   "execution_count": 12,
   "metadata": {},
   "outputs": [
    {
     "data": {
      "text/plain": [
       "100"
      ]
     },
     "execution_count": 12,
     "metadata": {},
     "output_type": "execute_result"
    },
    {
     "data": {
      "text/plain": [
       "array([[-3.42720903e-01, -3.14565723e-01, -1.61245491e-01,\n",
       "         5.37169694e-02, -3.99052267e-02, -6.75310855e-02,\n",
       "         2.86078575e-01, -1.75969960e-01, -3.78634489e-01,\n",
       "        -3.28966780e-01, -9.48436244e-02,  4.40634984e-02,\n",
       "         1.20950565e-01, -3.70696167e-01,  2.14712400e-01,\n",
       "        -9.73923303e-02, -3.90097231e-01,  1.82379817e-01,\n",
       "        -8.33267119e-01,  2.98915156e-01,  1.76932782e-02,\n",
       "        -1.66996265e-01, -1.09297313e-01, -1.27219465e-01,\n",
       "        -1.45745005e-01, -2.75330897e-01, -3.31439634e-01,\n",
       "        -4.23339747e-01, -1.98264997e-01,  5.34404625e-01,\n",
       "         5.38890239e-01,  3.28455134e-01, -3.12700287e-01,\n",
       "        -2.46638697e-01],\n",
       "       [ 2.50301570e-01,  2.25572272e-01,  1.70867519e-01,\n",
       "         1.41905308e-01,  1.60346079e-01, -8.61064956e-02,\n",
       "         4.41720467e-02,  2.37181039e-01,  2.66619908e-02,\n",
       "        -3.25553218e-02,  1.01504530e-01, -7.49445671e-02,\n",
       "        -7.41753971e-02, -3.67065655e-01, -1.09027212e-01,\n",
       "         2.35706646e-02, -5.13854966e-01, -3.86686844e-01,\n",
       "        -5.42410323e-02,  4.18045333e-01,  7.74416501e-01,\n",
       "         1.29211025e-01,  2.92790231e-02,  8.58351213e-02,\n",
       "         1.16288657e-01,  6.02650349e-02,  2.66330357e-02,\n",
       "        -4.02931150e-02, -2.88726395e-01, -8.76220089e-02,\n",
       "        -1.90502959e-01,  2.32666971e-01, -3.72564492e-04,\n",
       "        -4.20943498e-02]])"
      ]
     },
     "execution_count": 12,
     "metadata": {},
     "output_type": "execute_result"
    }
   ],
   "source": [
    "len(predicted_ratings)\n",
    "predicted_ratings[:2]"
   ]
  },
  {
   "cell_type": "code",
   "execution_count": 13,
   "metadata": {},
   "outputs": [],
   "source": [
    "# Add back in the mean ratings for each product to de-normalize the predicted results\n",
    "predicted_ratings = predicted_ratings + means"
   ]
  },
  {
   "cell_type": "markdown",
   "metadata": {},
   "source": [
    "Notice that 'predicted_ratings' contains 100 rows and 34 attributes. Each row representing a user, each row represeting a movie."
   ]
  },
  {
   "cell_type": "code",
   "execution_count": 14,
   "metadata": {},
   "outputs": [
    {
     "data": {
      "text/plain": [
       "100"
      ]
     },
     "execution_count": 14,
     "metadata": {},
     "output_type": "execute_result"
    },
    {
     "data": {
      "text/plain": [
       "array([[4.26839021, 4.29654539, 4.65693633, 4.4822884 , 4.74580906,\n",
       "        4.83246891, 4.28607857, 4.42403004, 4.32136551, 4.55338616,\n",
       "        4.3337278 , 4.8440635 , 4.76380771, 4.15104296, 4.5147124 ,\n",
       "        4.61689338, 2.4432361 , 3.34904648, 3.10790935, 4.10972597,\n",
       "        4.09086401, 4.14879321, 3.65260745, 4.55699106, 4.43758833,\n",
       "        4.3496691 , 3.97625267, 4.10999359, 3.45690742, 3.89440462,\n",
       "        3.71389024, 4.37496676, 3.44339727, 3.86447241],\n",
       "       [4.86141268, 4.83668338, 4.98904934, 4.57047674, 4.94606036,\n",
       "        4.8138935 , 4.04417205, 4.83718104, 4.72666199, 4.84979762,\n",
       "        4.53007596, 4.72505543, 4.56868175, 4.15467348, 4.19097279,\n",
       "        4.73785638, 2.31947837, 2.77997982, 3.88693544, 4.22885614,\n",
       "        4.84758723, 4.4450005 , 3.79118378, 4.77004565, 4.69962199,\n",
       "        4.68526503, 4.33432534, 4.49304022, 3.36644602, 3.27237799,\n",
       "        2.98449704, 4.2791786 , 3.755725  , 4.06901676]])"
      ]
     },
     "execution_count": 14,
     "metadata": {},
     "output_type": "execute_result"
    }
   ],
   "source": [
    "len(predicted_ratings) #printing the total number of rows\n",
    "predicted_ratings[:2] #printing first two rows"
   ]
  },
  {
   "cell_type": "code",
   "execution_count": 15,
   "metadata": {},
   "outputs": [],
   "source": [
    "# Save features and predicted ratings to files for later use\n",
    "pickle.dump(U, open(\"Generated/user_features.dat\", \"wb\"))\n",
    "pickle.dump(M, open(\"Generated/product_features.dat\", \"wb\"))\n",
    "pickle.dump(predicted_ratings, open(\"Generated/predicted_ratings.dat\", \"wb\" ))\n",
    "pickle.dump(means, open(\"Generated/means.dat\", \"wb\" ))"
   ]
  }
 ],
 "metadata": {
  "jupytext": {
   "cell_metadata_filter": "-all",
   "notebook_metadata_filter": "-all",
   "text_representation": {
    "extension": ".py",
    "format_name": "light"
   }
  },
  "kernelspec": {
   "display_name": "Python 3",
   "language": "python",
   "name": "python3"
  },
  "language_info": {
   "codemirror_mode": {
    "name": "ipython",
    "version": 3
   },
   "file_extension": ".py",
   "mimetype": "text/x-python",
   "name": "python",
   "nbconvert_exporter": "python",
   "pygments_lexer": "ipython3",
   "version": "3.7.3"
  }
 },
 "nbformat": 4,
 "nbformat_minor": 2
}
