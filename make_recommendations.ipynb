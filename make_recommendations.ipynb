{
 "cells": [
  {
   "cell_type": "markdown",
   "metadata": {},
   "source": [
    "### Make Recommendations\n",
    "#### Harsh Tandon"
   ]
  },
  {
   "cell_type": "code",
   "execution_count": 1,
   "metadata": {},
   "outputs": [],
   "source": [
    "# print all the outputs in a cell\n",
    "from IPython.core.interactiveshell import InteractiveShell\n",
    "InteractiveShell.ast_node_interactivity = \"all\""
   ]
  },
  {
   "cell_type": "code",
   "execution_count": 2,
   "metadata": {},
   "outputs": [],
   "source": [
    "import pickle\n",
    "import pandas as pd"
   ]
  },
  {
   "cell_type": "code",
   "execution_count": 3,
   "metadata": {},
   "outputs": [],
   "source": [
    "# Load prediction rules from data files\n",
    "U = pickle.load(open(\"Generated/user_features.dat\", \"rb\"))\n",
    "M = pickle.load(open(\"Generated/product_features.dat\", \"rb\"))\n",
    "predicted_ratings = pickle.load(open(\"Generated/predicted_ratings.dat\", \"rb\"))"
   ]
  },
  {
   "cell_type": "code",
   "execution_count": 4,
   "metadata": {},
   "outputs": [],
   "source": [
    "# Load movie titles and data for visualization purpose\n",
    "raw_dataset_df = pd.read_csv('Data/movie_ratings_data_set.csv')\n",
    "movies_df = pd.read_csv('Data/movies.csv', index_col='movie_id')"
   ]
  },
  {
   "cell_type": "code",
   "execution_count": 5,
   "metadata": {},
   "outputs": [
    {
     "data": {
      "text/html": [
       "<div>\n",
       "<style scoped>\n",
       "    .dataframe tbody tr th:only-of-type {\n",
       "        vertical-align: middle;\n",
       "    }\n",
       "\n",
       "    .dataframe tbody tr th {\n",
       "        vertical-align: top;\n",
       "    }\n",
       "\n",
       "    .dataframe thead th {\n",
       "        text-align: right;\n",
       "    }\n",
       "</style>\n",
       "<table border=\"1\" class=\"dataframe\">\n",
       "  <thead>\n",
       "    <tr style=\"text-align: right;\">\n",
       "      <th></th>\n",
       "      <th>title</th>\n",
       "      <th>genre</th>\n",
       "    </tr>\n",
       "    <tr>\n",
       "      <th>movie_id</th>\n",
       "      <th></th>\n",
       "      <th></th>\n",
       "    </tr>\n",
       "  </thead>\n",
       "  <tbody>\n",
       "    <tr>\n",
       "      <th>1</th>\n",
       "      <td>The Sheriff 1</td>\n",
       "      <td>crime drama, western</td>\n",
       "    </tr>\n",
       "    <tr>\n",
       "      <th>2</th>\n",
       "      <td>The Big City Judge 1</td>\n",
       "      <td>legal drama</td>\n",
       "    </tr>\n",
       "    <tr>\n",
       "      <th>3</th>\n",
       "      <td>The Sheriff 2</td>\n",
       "      <td>crime drama, western</td>\n",
       "    </tr>\n",
       "    <tr>\n",
       "      <th>4</th>\n",
       "      <td>Just a Regular Family</td>\n",
       "      <td>reality</td>\n",
       "    </tr>\n",
       "    <tr>\n",
       "      <th>5</th>\n",
       "      <td>The Big City Judge 2</td>\n",
       "      <td>legal drama</td>\n",
       "    </tr>\n",
       "  </tbody>\n",
       "</table>\n",
       "</div>"
      ],
      "text/plain": [
       "                          title                 genre\n",
       "movie_id                                             \n",
       "1                 The Sheriff 1  crime drama, western\n",
       "2          The Big City Judge 1           legal drama\n",
       "3                 The Sheriff 2  crime drama, western\n",
       "4         Just a Regular Family               reality\n",
       "5          The Big City Judge 2           legal drama"
      ]
     },
     "execution_count": 5,
     "metadata": {},
     "output_type": "execute_result"
    }
   ],
   "source": [
    "movies_df.head()"
   ]
  },
  {
   "cell_type": "code",
   "execution_count": 6,
   "metadata": {},
   "outputs": [
    {
     "name": "stdout",
     "output_type": "stream",
     "text": [
      "Any user greater than user_id > 100 will be considered as a New_User\n",
      "Enter a user_id to get recommendations (Between 1 and 100):\n",
      "4\n"
     ]
    }
   ],
   "source": [
    "print(\"Any user greater than user_id > 100 will be considered as a New_User\\n\\\n",
    "Enter a user_id to get recommendations (Between 1 and 100):\")\n",
    "user_id_to_search = int(input())"
   ]
  },
  {
   "cell_type": "code",
   "execution_count": 7,
   "metadata": {},
   "outputs": [
    {
     "name": "stdout",
     "output_type": "stream",
     "text": [
      "Movies previously reviewed by user_id 4:\n",
      "                    title                 genre  value\n",
      "19          The Sheriff 1  crime drama, western      5\n",
      "20  Just a Regular Family               reality      5\n",
      "21   The Big City Judge 1           legal drama      5\n",
      "22          The Sheriff 3  crime drama, western      5\n",
      "23   The Big City Judge 3           legal drama      5\n",
      "24   The Big City Judge 2           legal drama      5\n"
     ]
    }
   ],
   "source": [
    "if user_id_to_search > 100:\n",
    "    print('It is a new user!')\n",
    "else:\n",
    "    print(\"Movies previously reviewed by user_id {}:\".format(user_id_to_search))\n",
    "    reviewed_movies_df = raw_dataset_df[raw_dataset_df['user_id'] == user_id_to_search]\n",
    "    reviewed_movies_df = reviewed_movies_df.join(movies_df, on='movie_id')\n",
    "    print(reviewed_movies_df[['title', 'genre', 'value']])"
   ]
  },
  {
   "cell_type": "code",
   "execution_count": 8,
   "metadata": {},
   "outputs": [
    {
     "name": "stdout",
     "output_type": "stream",
     "text": [
      "Movies we will recommend:\n"
     ]
    }
   ],
   "source": [
    "print(\"Movies we will recommend:\")"
   ]
  },
  {
   "cell_type": "code",
   "execution_count": 9,
   "metadata": {},
   "outputs": [],
   "source": [
    "if user_id_to_search < 101:    \n",
    "    user_ratings = predicted_ratings[user_id_to_search - 1]\n",
    "    already_reviewed = reviewed_movies_df['movie_id']\n",
    "else :\n",
    "    means = pickle.load(open(\"Generated/means.dat\", \"rb\"))\n",
    "    user_ratings = means"
   ]
  },
  {
   "cell_type": "code",
   "execution_count": 10,
   "metadata": {},
   "outputs": [],
   "source": [
    "movies_df['rating'] = user_ratings\n",
    "recommended_df = movies_df[movies_df.index.isin(already_reviewed) == False]\n",
    "recommended_df = recommended_df.sort_values(by=['rating'], ascending = False)"
   ]
  },
  {
   "cell_type": "code",
   "execution_count": 11,
   "metadata": {},
   "outputs": [
    {
     "name": "stdout",
     "output_type": "stream",
     "text": [
      "                             title                   genre    rating\n",
      "movie_id                                                            \n",
      "3                    The Sheriff 2    crime drama, western  5.052048\n",
      "6                Attack on Earth 1          sci-fi, action  4.953219\n",
      "8         Sci-Fi Murder Detectives   supernatural, mystery  4.938081\n",
      "10         Surrounded by Zombies 1  horror, zombie fiction  4.925747\n",
      "28                   The Sheriff 4    crime drama, western  4.816890\n"
     ]
    }
   ],
   "source": [
    "print(recommended_df[['title', 'genre', 'rating']].head(5))"
   ]
  }
 ],
 "metadata": {
  "jupytext": {
   "cell_metadata_filter": "-all",
   "notebook_metadata_filter": "-all",
   "text_representation": {
    "extension": ".py",
    "format_name": "light"
   }
  },
  "kernelspec": {
   "display_name": "Python 3",
   "language": "python",
   "name": "python3"
  },
  "language_info": {
   "codemirror_mode": {
    "name": "ipython",
    "version": 3
   },
   "file_extension": ".py",
   "mimetype": "text/x-python",
   "name": "python",
   "nbconvert_exporter": "python",
   "pygments_lexer": "ipython3",
   "version": "3.7.3"
  }
 },
 "nbformat": 4,
 "nbformat_minor": 2
}
